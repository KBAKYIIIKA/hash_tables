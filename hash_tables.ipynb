{
 "cells": [
  {
   "cell_type": "markdown",
   "id": "59257fd5-5579-4912-bcf5-9e57258abcfd",
   "metadata": {
    "jp-MarkdownHeadingCollapsed": true
   },
   "source": [
    "# Хэш таблицы и методы разрешения коллизий"
   ]
  },
  {
   "cell_type": "markdown",
   "id": "a6f996f9-17ba-4ab9-894b-4e0bfabd800c",
   "metadata": {
    "jp-MarkdownHeadingCollapsed": true
   },
   "source": [
    "## Рехэширование"
   ]
  },
  {
   "cell_type": "markdown",
   "id": "2f0b0ab9-21d8-46bb-a754-3f8eaae11d14",
   "metadata": {
    "jp-MarkdownHeadingCollapsed": true
   },
   "source": [
    "### Рехэширование -- метод разрешения коллизий в хэш таблице. В нем мы добавляем 1 к индексу элемента и хэшиируем повтороно, пока не найдем место\n",
    "### Рехэширование псевдослучайными числами -- метод разрешения коллизий в хэш таблице. Мы для каждой таблицы генерируем массив с индексами размером с таблицу и если происходит коллизия, то мы обращаемся к случайному элементу массива за индексом\n",
    "### Сложность поиска по Хэш таблице -- O(1), так как мы обращаемся по вычисленному индексу"
   ]
  },
  {
   "cell_type": "markdown",
   "id": "79883174-80fa-4a03-bdde-013f1896dce7",
   "metadata": {
    "jp-MarkdownHeadingCollapsed": true
   },
   "source": [
    "### Я реализовал 2 метода в одном классе. При проверке нужно, чтобы один был закомментирован"
   ]
  },
  {
   "cell_type": "code",
   "execution_count": 4,
   "id": "656b9816-3806-4aa7-9392-03123ad1c363",
   "metadata": {},
   "outputs": [],
   "source": [
    "import random as rand"
   ]
  },
  {
   "cell_type": "code",
   "execution_count": 5,
   "id": "de65bac5-3ce3-4824-b623-13ad2063040a",
   "metadata": {},
   "outputs": [],
   "source": [
    "# Класс хэш-таблицы \n",
    "class HashTable:\n",
    "    \n",
    "    # Инициализация\n",
    "    def __init__(self, size):\n",
    "        self.size = size\n",
    "        self.table = [None] * size\n",
    "        self.rand_nums = rand.sample(range(self.size), self.size)\n",
    "        \n",
    "    # Хэш функция\n",
    "    def hash_function(self, key):\n",
    "        return key % self.size\n",
    "\n",
    "    # Вставка в хэш таблицу\n",
    "    def insert(self, key, value):\n",
    "        index = self.hash_function(key)\n",
    "        \n",
    "        # Метод рехэширования в случае коллизии\n",
    "        while self.table[index] is not None:\n",
    "\n",
    "            # Простое рехэширование\n",
    "            #index = (index + 1) % self.size\n",
    "\n",
    "            # Рехэширование с помощью псевдослучайных чисел\n",
    "            index = self.rand_nums[index]\n",
    "            \n",
    "        \n",
    "        self.table[index] = [key, value]\n",
    "        \n",
    "    # Поиск по таблице\n",
    "    def search(self, key):\n",
    "        index = self.hash_function(key)\n",
    "        # Если занято, то рехэшируем ключи\n",
    "        while self.table[index] is not None:\n",
    "            if self.table[index][0] == key:\n",
    "                # Нашли\n",
    "                return self.table[index][1] \n",
    "                \n",
    "            # Не нашли\n",
    "            \n",
    "             # Простое рехэширование\n",
    "            #index = (index + 1) % self.size\n",
    "\n",
    "            # Рехэширование с помощью псевдослучайных чисел\n",
    "            index = self.rand_nums[index]\n",
    "                \n",
    "\n",
    "    # Удаление\n",
    "    def delete(self, key):\n",
    "        index = self.hash_function(key)\n",
    "        while self.table[index] is not None:\n",
    "            if self.table[index][0] == key:\n",
    "                self.table[index][1] = None\n",
    "                \n",
    "            # Простое рехэширование\n",
    "            #index = (index + 1) % self.size\n",
    "\n",
    "            # Рехэширование с помощью псевдослучайных чисел\n",
    "            index = self.rand_nums[index]"
   ]
  },
  {
   "cell_type": "code",
   "execution_count": 6,
   "id": "25833382-73a4-4287-a0e5-8e1b65314d74",
   "metadata": {},
   "outputs": [],
   "source": [
    "# Инициализация\n",
    "ht = HashTable(100)"
   ]
  },
  {
   "cell_type": "code",
   "execution_count": 7,
   "id": "be2388e0-0869-4f75-b0ce-e5b584e87916",
   "metadata": {},
   "outputs": [],
   "source": [
    "# Вставка\n",
    "ht.insert(1, 'bebra')\n",
    "ht.insert(11, 'velosiped')\n",
    "ht.insert(5, 'beliberda')"
   ]
  },
  {
   "cell_type": "code",
   "execution_count": 8,
   "id": "5a106639-bafa-4025-88dd-8689a0c214b8",
   "metadata": {},
   "outputs": [
    {
     "name": "stdout",
     "output_type": "stream",
     "text": [
      "bebra\n",
      "velosiped\n",
      "beliberda\n"
     ]
    }
   ],
   "source": [
    "# Поиск\n",
    "print(ht.search(1))\n",
    "print(ht.search(11))\n",
    "print(ht.search(5))"
   ]
  },
  {
   "cell_type": "markdown",
   "id": "ab0a2f67-e89a-4ac5-aa04-c4b2b2b4d4e5",
   "metadata": {},
   "source": [
    "### Коллизии разрешились, таблица работает как надо"
   ]
  },
  {
   "cell_type": "code",
   "execution_count": 9,
   "id": "444d2826-7e39-455d-9b7b-dfc1f567c2fd",
   "metadata": {},
   "outputs": [
    {
     "name": "stdout",
     "output_type": "stream",
     "text": [
      "None\n"
     ]
    }
   ],
   "source": [
    "# Удаление\n",
    "ht.delete(1)\n",
    "print(ht.search(1))"
   ]
  },
  {
   "cell_type": "markdown",
   "id": "0a7cf0f9-0c3a-4853-ad2a-91ca4b78202c",
   "metadata": {},
   "source": [
    "## Метод цепочек"
   ]
  },
  {
   "cell_type": "markdown",
   "id": "050afa71-3681-4465-9a0f-9828b03f0ce2",
   "metadata": {},
   "source": [
    "### Метод цепочек -- метод разрешения коллизий в хэш таблице. Если индекс занят, то мы вставляем в ячейку еще одно значение, создавая цепочку"
   ]
  },
  {
   "cell_type": "code",
   "execution_count": 10,
   "id": "00509e0f-e9ab-4c4a-b827-91d66b3811e5",
   "metadata": {},
   "outputs": [],
   "source": [
    "class HashTable_2:\n",
    "    # Инициализация\n",
    "    def __init__(self, size):\n",
    "        self.size = size\n",
    "        self.table = [[] for _ in range(size)]\n",
    "\n",
    "    # Хэш функция\n",
    "    def hash_function(self, key):\n",
    "        return key % self.size\n",
    "\n",
    "    # Вставка\n",
    "    def insert(self, key, value):\n",
    "        index = self.hash_function(key)\n",
    "        self.table[index].append((key, value))\n",
    "\n",
    "    # Поиск\n",
    "    def search(self, key):\n",
    "        index = self.hash_function(key)\n",
    "        for k, v in self.table[index]:\n",
    "            if k == key:\n",
    "                # Нашли\n",
    "                return v\n",
    "        # Не нашли\n",
    "        return None\n",
    "\n",
    "    # Удаление\n",
    "    def delete(self, key):\n",
    "        index = self.hash_function(key)\n",
    "        for i, (k, _) in enumerate(self.table[index]):\n",
    "            if k == key:\n",
    "                del self.table[index][i]"
   ]
  },
  {
   "cell_type": "code",
   "execution_count": 11,
   "id": "76836ef8-014b-4d90-b6c5-2b47a2d145b8",
   "metadata": {},
   "outputs": [],
   "source": [
    "# Инициализация\n",
    "ht = HashTable_2(100)"
   ]
  },
  {
   "cell_type": "code",
   "execution_count": 12,
   "id": "97adf5ad-9607-4c92-9ece-004fbd6dd316",
   "metadata": {},
   "outputs": [],
   "source": [
    "# Вставка\n",
    "ht.insert(1, 'bebra')\n",
    "ht.insert(11, 'velosiped')\n",
    "ht.insert(5, 'beliberda')"
   ]
  },
  {
   "cell_type": "code",
   "execution_count": 13,
   "id": "9cdc181f-9e4b-433e-a852-d79ff215b1ac",
   "metadata": {},
   "outputs": [
    {
     "name": "stdout",
     "output_type": "stream",
     "text": [
      "bebra\n",
      "velosiped\n",
      "beliberda\n"
     ]
    }
   ],
   "source": [
    "# Поиск\n",
    "print(ht.search(1))\n",
    "print(ht.search(11))\n",
    "print(ht.search(5))"
   ]
  },
  {
   "cell_type": "code",
   "execution_count": 14,
   "id": "b7fcd450-3f6d-4ee8-b075-f4550c8aa720",
   "metadata": {},
   "outputs": [
    {
     "name": "stdout",
     "output_type": "stream",
     "text": [
      "None\n"
     ]
    }
   ],
   "source": [
    "# Удаление\n",
    "ht.delete(1)\n",
    "print(ht.search(1))"
   ]
  }
 ],
 "metadata": {
  "kernelspec": {
   "display_name": "Python 3 (ipykernel)",
   "language": "python",
   "name": "python3"
  },
  "language_info": {
   "codemirror_mode": {
    "name": "ipython",
    "version": 3
   },
   "file_extension": ".py",
   "mimetype": "text/x-python",
   "name": "python",
   "nbconvert_exporter": "python",
   "pygments_lexer": "ipython3",
   "version": "3.12.2"
  }
 },
 "nbformat": 4,
 "nbformat_minor": 5
}
